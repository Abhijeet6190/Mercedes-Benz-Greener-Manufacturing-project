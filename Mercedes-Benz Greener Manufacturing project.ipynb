{
 "cells": [
  {
   "cell_type": "markdown",
   "id": "8c60770b",
   "metadata": {},
   "source": [
    "### DESCRIPTION\n",
    "\n",
    "Reduce the time a Mercedes-Benz spends on the test bench"
   ]
  },
  {
   "cell_type": "markdown",
   "id": "2b74df55",
   "metadata": {},
   "source": [
    "### Problem Statement Scenario:\n",
    "Since the first automobile, the Benz Patent Motor Car in 1886, Mercedes-Benz has stood for important automotive innovations. These include the passenger safety cell with a crumple zone, the airbag, and intelligent assistance systems. Mercedes-Benz applies for nearly 2000 patents per year, making the brand the European leader among premium carmakers. Mercedes-Benz is the leader in the premium car industry. With a huge selection of features and options, customers can choose the customized Mercedes-Benz of their dreams.\n",
    "\n",
    "To ensure the safety and reliability of every unique car configuration before they hit the road, the company’s engineers have developed a robust testing system. As one of the world’s biggest manufacturers of premium cars, safety and efficiency are paramount on Mercedes-Benz’s production lines. However, optimizing the speed of their testing system for many possible feature combinations is complex and time-consuming without a powerful algorithmic approach.\n",
    "\n",
    "You are required to reduce the time that cars spend on the test bench. Others will work with a dataset representing different permutations of features in a Mercedes-Benz car to predict the time it takes to pass testing. Optimal algorithms will contribute to faster testing, resulting in lower carbon dioxide emissions without reducing Mercedes-Benz’s standards."
   ]
  },
  {
   "cell_type": "code",
   "execution_count": 1,
   "id": "b848abec",
   "metadata": {},
   "outputs": [],
   "source": [
    "#Importing Libraries\n",
    "\n",
    "import numpy as np\n",
    "import pandas as pd\n",
    "import matplotlib.pyplot as plt\n",
    "%matplotlib inline\n",
    "import seaborn as sns\n",
    "\n",
    "import warnings\n",
    "warnings.filterwarnings('ignore')"
   ]
  },
  {
   "cell_type": "code",
   "execution_count": 2,
   "id": "81c2b55a",
   "metadata": {},
   "outputs": [],
   "source": [
    "#Importing datasets\n",
    "train_data=pd.read_csv('train1.csv')\n",
    "test_data=pd.read_csv('test1.csv')"
   ]
  },
  {
   "cell_type": "code",
   "execution_count": 3,
   "id": "5e1d376d",
   "metadata": {},
   "outputs": [
    {
     "data": {
      "text/plain": [
       "((4209, 378), (4209, 377))"
      ]
     },
     "execution_count": 3,
     "metadata": {},
     "output_type": "execute_result"
    }
   ],
   "source": [
    "#Checking shape of the datasets\n",
    "train_data.shape, test_data.shape\n"
   ]
  },
  {
   "cell_type": "code",
   "execution_count": 4,
   "id": "0bc249c9",
   "metadata": {},
   "outputs": [
    {
     "data": {
      "text/plain": [
       "ID        int64\n",
       "y       float64\n",
       "X0       object\n",
       "X1       object\n",
       "X2       object\n",
       "         ...   \n",
       "X380      int64\n",
       "X382      int64\n",
       "X383      int64\n",
       "X384      int64\n",
       "X385      int64\n",
       "Length: 378, dtype: object"
      ]
     },
     "execution_count": 4,
     "metadata": {},
     "output_type": "execute_result"
    }
   ],
   "source": [
    "#Checking datatypes\n",
    "train_data.dtypes"
   ]
  },
  {
   "cell_type": "code",
   "execution_count": 5,
   "id": "051d1f96",
   "metadata": {},
   "outputs": [
    {
     "name": "stdout",
     "output_type": "stream",
     "text": [
      "X0\n",
      "X1\n",
      "X2\n",
      "X3\n",
      "X4\n",
      "X5\n",
      "X6\n",
      "X8\n"
     ]
    }
   ],
   "source": [
    "# Printing columns of object datatypes\n",
    "for i in train_data.columns:\n",
    "    data_type = train_data[i].dtype\n",
    "    if data_type == 'object':\n",
    "        print(i)"
   ]
  },
  {
   "cell_type": "markdown",
   "id": "f27c6459",
   "metadata": {},
   "source": [
    "### If for any column(s), the variance is equal to zero, then you need to remove those variable(s)"
   ]
  },
  {
   "cell_type": "code",
   "execution_count": 6,
   "id": "0c1f624f",
   "metadata": {},
   "outputs": [
    {
     "name": "stdout",
     "output_type": "stream",
     "text": [
      "Name =  X11\n",
      "Name =  X93\n",
      "Name =  X107\n",
      "Name =  X233\n",
      "Name =  X235\n",
      "Name =  X268\n",
      "Name =  X289\n",
      "Name =  X290\n",
      "Name =  X293\n",
      "Name =  X297\n",
      "Name =  X330\n",
      "Name =  X347\n",
      "No of columns which has zero variance =  12\n"
     ]
    }
   ],
   "source": [
    "variance = pow(train_data.drop(columns={'ID','y'}).std(),2).to_dict()\n",
    "\n",
    "null_cnt = 0\n",
    "for key, value in variance.items():\n",
    "    if(value==0):\n",
    "        print('Name = ',key)\n",
    "        null_cnt = null_cnt+1\n",
    "print('No of columns which has zero variance = ',null_cnt)"
   ]
  },
  {
   "cell_type": "markdown",
   "id": "b79e6c2c",
   "metadata": {},
   "source": [
    "Since these 12 columns have 0 variance, these all are need to be dropped"
   ]
  },
  {
   "cell_type": "code",
   "execution_count": 7,
   "id": "3f2b99a6",
   "metadata": {},
   "outputs": [],
   "source": [
    "#Dropping 12 columns with 0 variance from train dataset\n",
    "train_data.drop(['X11','X93','X107','X233','X235','X268','X289','X290','X293','X330','X297','X347'],axis=1,inplace=True)"
   ]
  },
  {
   "cell_type": "code",
   "execution_count": 8,
   "id": "b6eb548d",
   "metadata": {},
   "outputs": [
    {
     "data": {
      "text/plain": [
       "(4209, 366)"
      ]
     },
     "execution_count": 8,
     "metadata": {},
     "output_type": "execute_result"
    }
   ],
   "source": [
    "train_data.shape"
   ]
  },
  {
   "cell_type": "code",
   "execution_count": 9,
   "id": "92a2fb20",
   "metadata": {},
   "outputs": [],
   "source": [
    "#Dropping 12 columns with 0 variance from test dataset\n",
    "test_data.drop(['X11','X93','X107','X233','X235','X268','X289','X290','X293','X330','X297','X347'],axis=1,inplace=True)"
   ]
  },
  {
   "cell_type": "code",
   "execution_count": 10,
   "id": "37225400",
   "metadata": {},
   "outputs": [
    {
     "data": {
      "text/plain": [
       "(4209, 365)"
      ]
     },
     "execution_count": 10,
     "metadata": {},
     "output_type": "execute_result"
    }
   ],
   "source": [
    "test_data.shape"
   ]
  },
  {
   "cell_type": "markdown",
   "id": "3880fbe6",
   "metadata": {},
   "source": [
    "### Check for null and unique values for test and train sets"
   ]
  },
  {
   "cell_type": "code",
   "execution_count": 11,
   "id": "1257749b",
   "metadata": {},
   "outputs": [
    {
     "data": {
      "text/plain": [
       "False"
      ]
     },
     "execution_count": 11,
     "metadata": {},
     "output_type": "execute_result"
    }
   ],
   "source": [
    "#Null in train dataset\n",
    "train_data.isnull().sum().any()"
   ]
  },
  {
   "cell_type": "code",
   "execution_count": 12,
   "id": "b7602bf8",
   "metadata": {},
   "outputs": [
    {
     "data": {
      "text/plain": [
       "False"
      ]
     },
     "execution_count": 12,
     "metadata": {},
     "output_type": "execute_result"
    }
   ],
   "source": [
    "#checking null in test dataset\n",
    "test_data.isnull().sum().any()"
   ]
  },
  {
   "cell_type": "markdown",
   "id": "d24e7645",
   "metadata": {},
   "source": [
    "It seems our datasets dont have any null values"
   ]
  },
  {
   "cell_type": "code",
   "execution_count": 13,
   "id": "c180a46f",
   "metadata": {},
   "outputs": [
    {
     "data": {
      "text/plain": [
       "<bound method Series.unique of 0        k\n",
       "1        k\n",
       "2       az\n",
       "3       az\n",
       "4       az\n",
       "        ..\n",
       "4204    ak\n",
       "4205     j\n",
       "4206    ak\n",
       "4207    al\n",
       "4208     z\n",
       "Name: X0, Length: 4209, dtype: object>"
      ]
     },
     "execution_count": 13,
     "metadata": {},
     "output_type": "execute_result"
    }
   ],
   "source": [
    "#Cheching Unique values in train dataset\n",
    "train_data['X0'].unique"
   ]
  },
  {
   "cell_type": "code",
   "execution_count": 14,
   "id": "1ffb0784",
   "metadata": {},
   "outputs": [
    {
     "data": {
      "text/plain": [
       "<bound method Series.unique of 0       az\n",
       "1        t\n",
       "2       az\n",
       "3       az\n",
       "4        w\n",
       "        ..\n",
       "4204    aj\n",
       "4205     t\n",
       "4206     y\n",
       "4207    ak\n",
       "4208     t\n",
       "Name: X0, Length: 4209, dtype: object>"
      ]
     },
     "execution_count": 14,
     "metadata": {},
     "output_type": "execute_result"
    }
   ],
   "source": [
    "#Cheching Unique values in test dataset\n",
    "test_data['X0'].unique"
   ]
  },
  {
   "cell_type": "code",
   "execution_count": 15,
   "id": "aa1df3c8",
   "metadata": {},
   "outputs": [
    {
     "data": {
      "text/plain": [
       "<bound method Series.unique of 0       v\n",
       "1       t\n",
       "2       w\n",
       "3       t\n",
       "4       v\n",
       "       ..\n",
       "4204    s\n",
       "4205    o\n",
       "4206    v\n",
       "4207    r\n",
       "4208    r\n",
       "Name: X1, Length: 4209, dtype: object>"
      ]
     },
     "execution_count": 15,
     "metadata": {},
     "output_type": "execute_result"
    }
   ],
   "source": [
    "train_data['X1'].unique"
   ]
  },
  {
   "cell_type": "code",
   "execution_count": 16,
   "id": "b551f4ab",
   "metadata": {},
   "outputs": [
    {
     "data": {
      "text/plain": [
       "<bound method Series.unique of 0        v\n",
       "1        b\n",
       "2        v\n",
       "3        l\n",
       "4        s\n",
       "        ..\n",
       "4204     h\n",
       "4205    aa\n",
       "4206     v\n",
       "4207     v\n",
       "4208    aa\n",
       "Name: X1, Length: 4209, dtype: object>"
      ]
     },
     "execution_count": 16,
     "metadata": {},
     "output_type": "execute_result"
    }
   ],
   "source": [
    "test_data['X1'].unique"
   ]
  },
  {
   "cell_type": "markdown",
   "id": "3fe7a59f",
   "metadata": {},
   "source": [
    "### Apply label encoder"
   ]
  },
  {
   "cell_type": "code",
   "execution_count": 17,
   "id": "964ee7bb",
   "metadata": {},
   "outputs": [],
   "source": [
    "from sklearn.preprocessing import LabelEncoder\n",
    "le = LabelEncoder()"
   ]
  },
  {
   "cell_type": "code",
   "execution_count": 18,
   "id": "53b78205",
   "metadata": {},
   "outputs": [
    {
     "name": "stdout",
     "output_type": "stream",
     "text": [
      "(4209, 364)\n",
      "(4209,)\n"
     ]
    }
   ],
   "source": [
    "#Assigning feature and target in train dataset\n",
    "train_data_feature = train_data.drop(['y','ID'],axis=1)\n",
    "train_data_target = train_data['y']\n",
    "print(train_data_feature.shape)\n",
    "print(train_data_target.shape)"
   ]
  },
  {
   "cell_type": "code",
   "execution_count": 19,
   "id": "ab9ca43d",
   "metadata": {},
   "outputs": [
    {
     "data": {
      "text/html": [
       "<div>\n",
       "<style scoped>\n",
       "    .dataframe tbody tr th:only-of-type {\n",
       "        vertical-align: middle;\n",
       "    }\n",
       "\n",
       "    .dataframe tbody tr th {\n",
       "        vertical-align: top;\n",
       "    }\n",
       "\n",
       "    .dataframe thead th {\n",
       "        text-align: right;\n",
       "    }\n",
       "</style>\n",
       "<table border=\"1\" class=\"dataframe\">\n",
       "  <thead>\n",
       "    <tr style=\"text-align: right;\">\n",
       "      <th></th>\n",
       "      <th>X0</th>\n",
       "      <th>X1</th>\n",
       "      <th>X2</th>\n",
       "      <th>X3</th>\n",
       "      <th>X4</th>\n",
       "      <th>X5</th>\n",
       "      <th>X6</th>\n",
       "      <th>X8</th>\n",
       "    </tr>\n",
       "  </thead>\n",
       "  <tbody>\n",
       "    <tr>\n",
       "      <th>count</th>\n",
       "      <td>4209</td>\n",
       "      <td>4209</td>\n",
       "      <td>4209</td>\n",
       "      <td>4209</td>\n",
       "      <td>4209</td>\n",
       "      <td>4209</td>\n",
       "      <td>4209</td>\n",
       "      <td>4209</td>\n",
       "    </tr>\n",
       "    <tr>\n",
       "      <th>unique</th>\n",
       "      <td>47</td>\n",
       "      <td>27</td>\n",
       "      <td>44</td>\n",
       "      <td>7</td>\n",
       "      <td>4</td>\n",
       "      <td>29</td>\n",
       "      <td>12</td>\n",
       "      <td>25</td>\n",
       "    </tr>\n",
       "    <tr>\n",
       "      <th>top</th>\n",
       "      <td>z</td>\n",
       "      <td>aa</td>\n",
       "      <td>as</td>\n",
       "      <td>c</td>\n",
       "      <td>d</td>\n",
       "      <td>w</td>\n",
       "      <td>g</td>\n",
       "      <td>j</td>\n",
       "    </tr>\n",
       "    <tr>\n",
       "      <th>freq</th>\n",
       "      <td>360</td>\n",
       "      <td>833</td>\n",
       "      <td>1659</td>\n",
       "      <td>1942</td>\n",
       "      <td>4205</td>\n",
       "      <td>231</td>\n",
       "      <td>1042</td>\n",
       "      <td>277</td>\n",
       "    </tr>\n",
       "  </tbody>\n",
       "</table>\n",
       "</div>"
      ],
      "text/plain": [
       "          X0    X1    X2    X3    X4    X5    X6    X8\n",
       "count   4209  4209  4209  4209  4209  4209  4209  4209\n",
       "unique    47    27    44     7     4    29    12    25\n",
       "top        z    aa    as     c     d     w     g     j\n",
       "freq     360   833  1659  1942  4205   231  1042   277"
      ]
     },
     "execution_count": 19,
     "metadata": {},
     "output_type": "execute_result"
    }
   ],
   "source": [
    "#Describing object type variables in train dataset\n",
    "train_data_feature.describe(include='object')"
   ]
  },
  {
   "cell_type": "code",
   "execution_count": 20,
   "id": "5a8c12a0",
   "metadata": {},
   "outputs": [],
   "source": [
    "train_data_feature['X0'] = le.fit_transform(train_data_feature.X0)\n",
    "train_data_feature['X1'] = le.fit_transform(train_data_feature.X1)\n",
    "train_data_feature['X2'] = le.fit_transform(train_data_feature.X2)\n",
    "train_data_feature['X3'] = le.fit_transform(train_data_feature.X3)\n",
    "train_data_feature['X4'] = le.fit_transform(train_data_feature.X4)\n",
    "train_data_feature['X5'] = le.fit_transform(train_data_feature.X5)\n",
    "train_data_feature['X6'] = le.fit_transform(train_data_feature.X6)\n",
    "train_data_feature['X8'] = le.fit_transform(train_data_feature.X8)"
   ]
  },
  {
   "cell_type": "markdown",
   "id": "d828e2a0",
   "metadata": {},
   "source": [
    "### Perform dimensionality reduction"
   ]
  },
  {
   "cell_type": "code",
   "execution_count": 21,
   "id": "aec67d0e",
   "metadata": {},
   "outputs": [],
   "source": [
    "from sklearn.decomposition import PCA\n",
    "pca = PCA(n_components=.95)"
   ]
  },
  {
   "cell_type": "code",
   "execution_count": 22,
   "id": "ef4aad4c",
   "metadata": {},
   "outputs": [
    {
     "data": {
      "text/plain": [
       "PCA(n_components=0.95)"
      ]
     },
     "execution_count": 22,
     "metadata": {},
     "output_type": "execute_result"
    }
   ],
   "source": [
    "#For Train dataset\n",
    "pca.fit(train_data_feature, train_data_target)"
   ]
  },
  {
   "cell_type": "code",
   "execution_count": 23,
   "id": "23cb1da5",
   "metadata": {},
   "outputs": [
    {
     "name": "stdout",
     "output_type": "stream",
     "text": [
      "(4209, 6)\n"
     ]
    }
   ],
   "source": [
    "train_data_feature_tf = pca.fit_transform(train_data_feature)\n",
    "print(train_data_feature_tf.shape)"
   ]
  },
  {
   "cell_type": "markdown",
   "id": "8212ebfa",
   "metadata": {},
   "source": [
    "### Predict your test_df values using XGBoost"
   ]
  },
  {
   "cell_type": "markdown",
   "id": "b9d97f98",
   "metadata": {},
   "source": [
    "#### Building model using the train data set."
   ]
  },
  {
   "cell_type": "code",
   "execution_count": 24,
   "id": "18b4e7eb",
   "metadata": {},
   "outputs": [],
   "source": [
    "import xgboost as xgb\n",
    "from sklearn.model_selection import train_test_split\n",
    "from sklearn.metrics import r2_score, mean_squared_error\n",
    "from math import sqrt"
   ]
  },
  {
   "cell_type": "code",
   "execution_count": 25,
   "id": "9fdad668",
   "metadata": {},
   "outputs": [
    {
     "name": "stdout",
     "output_type": "stream",
     "text": [
      "(2946, 6)\n",
      "(2946,)\n",
      "(1263, 6)\n",
      "(1263,)\n"
     ]
    }
   ],
   "source": [
    "train_x,test_x,train_y,test_y = train_test_split(train_data_feature_tf,train_data_target,test_size=.3,random_state=7)\n",
    "print(train_x.shape)\n",
    "print(train_y.shape)\n",
    "print(test_x.shape)\n",
    "print(test_y.shape)"
   ]
  },
  {
   "cell_type": "markdown",
   "id": "e1af2153",
   "metadata": {},
   "source": [
    "#### XGBoost's hyperparameters tuning manually"
   ]
  },
  {
   "cell_type": "code",
   "execution_count": 26,
   "id": "8d337cc9",
   "metadata": {},
   "outputs": [
    {
     "name": "stdout",
     "output_type": "stream",
     "text": [
      "[17:02:32] WARNING: C:/buildkite-agent/builds/buildkite-windows-cpu-autoscaling-group-i-030221e36e1a46bfb-1/xgboost/xgboost-ci-windows/src/objective/regression_obj.cu:213: reg:linear is now deprecated in favor of reg:squarederror.\n",
      "RMSE =  12.288794806074309\n"
     ]
    }
   ],
   "source": [
    "xgb_reg = xgb.XGBRegressor(objective ='reg:linear', colsample_bytree = 0.3, learning_rate = 0.4, max_depth = 10, alpha = 6, \n",
    "                           n_estimators = 20)\n",
    "model = xgb_reg.fit(train_x,train_y)\n",
    "print('RMSE = ',sqrt(mean_squared_error(model.predict(test_x),test_y)))"
   ]
  },
  {
   "cell_type": "markdown",
   "id": "2cf140ef",
   "metadata": {},
   "source": [
    "RMSE =  12.288794806074309"
   ]
  },
  {
   "cell_type": "code",
   "execution_count": 27,
   "id": "c0c192f5",
   "metadata": {},
   "outputs": [
    {
     "data": {
      "image/png": "[encoded data removed]",
      "text/plain": [
       "<Figure size 1000x500 with 1 Axes>"
      ]
     },
     "metadata": {},
     "output_type": "display_data"
    }
   ],
   "source": [
    "pred_test_y = model.predict(test_x)\n",
    "\n",
    "plt.figure(figsize=(10,5))\n",
    "\n",
    "sns.distplot(test_y[test_y<160], color=\"skyblue\", label=\"Actual value\")\n",
    "sns.distplot(pred_test_y[pred_test_y<160] , color=\"red\", label=\"Predicted value\")\n",
    "plt.legend()\n",
    "\n",
    "plt.tight_layout()"
   ]
  },
  {
   "cell_type": "markdown",
   "id": "0886f3a1",
   "metadata": {},
   "source": [
    "#### k-fold Cross Validation using XGBoost"
   ]
  },
  {
   "cell_type": "code",
   "execution_count": 28,
   "id": "8de0614e",
   "metadata": {},
   "outputs": [
    {
     "name": "stdout",
     "output_type": "stream",
     "text": [
      "[17:02:33] WARNING: C:/buildkite-agent/builds/buildkite-windows-cpu-autoscaling-group-i-030221e36e1a46bfb-1/xgboost/xgboost-ci-windows/src/objective/regression_obj.cu:213: reg:linear is now deprecated in favor of reg:squarederror.\n",
      "[17:02:33] WARNING: C:/buildkite-agent/builds/buildkite-windows-cpu-autoscaling-group-i-030221e36e1a46bfb-1/xgboost/xgboost-ci-windows/src/objective/regression_obj.cu:213: reg:linear is now deprecated in favor of reg:squarederror.\n",
      "[17:02:33] WARNING: C:/buildkite-agent/builds/buildkite-windows-cpu-autoscaling-group-i-030221e36e1a46bfb-1/xgboost/xgboost-ci-windows/src/objective/regression_obj.cu:213: reg:linear is now deprecated in favor of reg:squarederror.\n"
     ]
    },
    {
     "data": {
      "text/html": [
       "<div>\n",
       "<style scoped>\n",
       "    .dataframe tbody tr th:only-of-type {\n",
       "        vertical-align: middle;\n",
       "    }\n",
       "\n",
       "    .dataframe tbody tr th {\n",
       "        vertical-align: top;\n",
       "    }\n",
       "\n",
       "    .dataframe thead th {\n",
       "        text-align: right;\n",
       "    }\n",
       "</style>\n",
       "<table border=\"1\" class=\"dataframe\">\n",
       "  <thead>\n",
       "    <tr style=\"text-align: right;\">\n",
       "      <th></th>\n",
       "      <th>train-rmse-mean</th>\n",
       "      <th>train-rmse-std</th>\n",
       "      <th>test-rmse-mean</th>\n",
       "      <th>test-rmse-std</th>\n",
       "    </tr>\n",
       "  </thead>\n",
       "  <tbody>\n",
       "    <tr>\n",
       "      <th>31</th>\n",
       "      <td>8.935207</td>\n",
       "      <td>0.183408</td>\n",
       "      <td>11.060047</td>\n",
       "      <td>0.736219</td>\n",
       "    </tr>\n",
       "    <tr>\n",
       "      <th>32</th>\n",
       "      <td>8.880285</td>\n",
       "      <td>0.174860</td>\n",
       "      <td>11.044372</td>\n",
       "      <td>0.740167</td>\n",
       "    </tr>\n",
       "    <tr>\n",
       "      <th>33</th>\n",
       "      <td>8.849045</td>\n",
       "      <td>0.185327</td>\n",
       "      <td>11.049080</td>\n",
       "      <td>0.738351</td>\n",
       "    </tr>\n",
       "    <tr>\n",
       "      <th>34</th>\n",
       "      <td>8.792400</td>\n",
       "      <td>0.202135</td>\n",
       "      <td>11.043289</td>\n",
       "      <td>0.728256</td>\n",
       "    </tr>\n",
       "  </tbody>\n",
       "</table>\n",
       "</div>"
      ],
      "text/plain": [
       "    train-rmse-mean  train-rmse-std  test-rmse-mean  test-rmse-std\n",
       "31         8.935207        0.183408       11.060047       0.736219\n",
       "32         8.880285        0.174860       11.044372       0.740167\n",
       "33         8.849045        0.185327       11.049080       0.738351\n",
       "34         8.792400        0.202135       11.043289       0.728256"
      ]
     },
     "execution_count": 28,
     "metadata": {},
     "output_type": "execute_result"
    }
   ],
   "source": [
    "dmatrix_train = xgb.DMatrix(data=train_data_feature_tf,label=train_data_target)\n",
    "\n",
    "params = {'objective':'reg:linear', 'colsample_bytree': 0.3, 'learning_rate': 0.3, 'max_depth': 5, 'alpha': 10}\n",
    "\n",
    "model_cv = xgb.cv(dtrain=dmatrix_train, params=params, nfold=3, num_boost_round=50, early_stopping_rounds=10, \n",
    "                      metrics=\"rmse\", as_pandas=True, seed=7)\n",
    "model_cv.tail(4)"
   ]
  },
  {
   "cell_type": "markdown",
   "id": "0b8ca0f5",
   "metadata": {},
   "source": [
    "#### Prediction on test data set using XGBoost"
   ]
  },
  {
   "cell_type": "code",
   "execution_count": 29,
   "id": "8f430905",
   "metadata": {},
   "outputs": [
    {
     "name": "stdout",
     "output_type": "stream",
     "text": [
      "(4209, 364)\n"
     ]
    }
   ],
   "source": [
    "#Assigning feature to test dataset\n",
    "test_data_feature = test_data.drop(['ID'],axis=1)\n",
    "print(test_data_feature.shape)"
   ]
  },
  {
   "cell_type": "code",
   "execution_count": 30,
   "id": "088279c6",
   "metadata": {},
   "outputs": [
    {
     "data": {
      "text/html": [
       "<div>\n",
       "<style scoped>\n",
       "    .dataframe tbody tr th:only-of-type {\n",
       "        vertical-align: middle;\n",
       "    }\n",
       "\n",
       "    .dataframe tbody tr th {\n",
       "        vertical-align: top;\n",
       "    }\n",
       "\n",
       "    .dataframe thead th {\n",
       "        text-align: right;\n",
       "    }\n",
       "</style>\n",
       "<table border=\"1\" class=\"dataframe\">\n",
       "  <thead>\n",
       "    <tr style=\"text-align: right;\">\n",
       "      <th></th>\n",
       "      <th>X0</th>\n",
       "      <th>X1</th>\n",
       "      <th>X2</th>\n",
       "      <th>X3</th>\n",
       "      <th>X4</th>\n",
       "      <th>X5</th>\n",
       "      <th>X6</th>\n",
       "      <th>X8</th>\n",
       "    </tr>\n",
       "  </thead>\n",
       "  <tbody>\n",
       "    <tr>\n",
       "      <th>count</th>\n",
       "      <td>4209</td>\n",
       "      <td>4209</td>\n",
       "      <td>4209</td>\n",
       "      <td>4209</td>\n",
       "      <td>4209</td>\n",
       "      <td>4209</td>\n",
       "      <td>4209</td>\n",
       "      <td>4209</td>\n",
       "    </tr>\n",
       "    <tr>\n",
       "      <th>unique</th>\n",
       "      <td>49</td>\n",
       "      <td>27</td>\n",
       "      <td>45</td>\n",
       "      <td>7</td>\n",
       "      <td>4</td>\n",
       "      <td>32</td>\n",
       "      <td>12</td>\n",
       "      <td>25</td>\n",
       "    </tr>\n",
       "    <tr>\n",
       "      <th>top</th>\n",
       "      <td>ak</td>\n",
       "      <td>aa</td>\n",
       "      <td>as</td>\n",
       "      <td>c</td>\n",
       "      <td>d</td>\n",
       "      <td>v</td>\n",
       "      <td>g</td>\n",
       "      <td>e</td>\n",
       "    </tr>\n",
       "    <tr>\n",
       "      <th>freq</th>\n",
       "      <td>432</td>\n",
       "      <td>826</td>\n",
       "      <td>1658</td>\n",
       "      <td>1900</td>\n",
       "      <td>4203</td>\n",
       "      <td>246</td>\n",
       "      <td>1073</td>\n",
       "      <td>274</td>\n",
       "    </tr>\n",
       "  </tbody>\n",
       "</table>\n",
       "</div>"
      ],
      "text/plain": [
       "          X0    X1    X2    X3    X4    X5    X6    X8\n",
       "count   4209  4209  4209  4209  4209  4209  4209  4209\n",
       "unique    49    27    45     7     4    32    12    25\n",
       "top       ak    aa    as     c     d     v     g     e\n",
       "freq     432   826  1658  1900  4203   246  1073   274"
      ]
     },
     "execution_count": 30,
     "metadata": {},
     "output_type": "execute_result"
    }
   ],
   "source": [
    "#Describing object type variables in test dataset\n",
    "test_data_feature.describe(include='object')"
   ]
  },
  {
   "cell_type": "code",
   "execution_count": 31,
   "id": "ca5a3d19",
   "metadata": {},
   "outputs": [],
   "source": [
    "test_data_feature['X0'] = le.fit_transform(test_data_feature.X0)\n",
    "test_data_feature['X1'] = le.fit_transform(test_data_feature.X1)\n",
    "test_data_feature['X2'] = le.fit_transform(test_data_feature.X2)\n",
    "test_data_feature['X3'] = le.fit_transform(test_data_feature.X3)\n",
    "test_data_feature['X4'] = le.fit_transform(test_data_feature.X4)\n",
    "test_data_feature['X5'] = le.fit_transform(test_data_feature.X5)\n",
    "test_data_feature['X6'] = le.fit_transform(test_data_feature.X6)\n",
    "test_data_feature['X8'] = le.fit_transform(test_data_feature.X8)"
   ]
  },
  {
   "cell_type": "code",
   "execution_count": 32,
   "id": "bd2a77ef",
   "metadata": {},
   "outputs": [
    {
     "data": {
      "text/plain": [
       "PCA(n_components=0.95)"
      ]
     },
     "execution_count": 32,
     "metadata": {},
     "output_type": "execute_result"
    }
   ],
   "source": [
    "pca.fit(test_data_feature)"
   ]
  },
  {
   "cell_type": "code",
   "execution_count": 33,
   "id": "fefe018e",
   "metadata": {},
   "outputs": [
    {
     "name": "stdout",
     "output_type": "stream",
     "text": [
      "(4209, 6)\n"
     ]
    }
   ],
   "source": [
    "test_data_feature_tf = pca.fit_transform(test_data_feature)\n",
    "print(test_data_feature_tf.shape)"
   ]
  },
  {
   "cell_type": "code",
   "execution_count": 34,
   "id": "dc8f5638",
   "metadata": {},
   "outputs": [
    {
     "data": {
      "text/plain": [
       "array([ 86.12015 ,  92.929794,  98.74635 , ...,  92.836525, 118.76457 ,\n",
       "        98.46741 ], dtype=float32)"
      ]
     },
     "execution_count": 34,
     "metadata": {},
     "output_type": "execute_result"
    }
   ],
   "source": [
    "test_pred = model.predict(test_data_feature_tf)\n",
    "test_pred"
   ]
  },
  {
   "cell_type": "code",
   "execution_count": 35,
   "id": "564c81ed",
   "metadata": {},
   "outputs": [
    {
     "data": {
      "image/png": "[encoded data removed]",
      "text/plain": [
       "<Figure size 1400x500 with 2 Axes>"
      ]
     },
     "metadata": {},
     "output_type": "display_data"
    }
   ],
   "source": [
    "fig, ax = plt.subplots(1,2, figsize=(14,5))\n",
    "\n",
    "train_plot = sns.distplot(train_data_target[train_data_target<200], bins=100, kde=True, ax=ax[0])\n",
    "train_plot.set_xlabel('Target(train_data)', weight='bold', size=15)\n",
    "train_plot.set_ylabel('Distribution', weight='bold', size=15)\n",
    "train_plot.set_title(' Dist. of target for train data', weight='bold', size=15)\n",
    "\n",
    "test_plot = sns.distplot(test_pred[test_pred<200], bins=100, kde=True, ax=ax[1])\n",
    "test_plot.set_xlabel('Target(test_data)', weight='bold', size=15)\n",
    "test_plot.set_ylabel('Distribution', weight='bold', size=15)\n",
    "test_plot.set_title(' Dist. of target for test data', weight='bold', size=15)\n",
    "\n",
    "plt.tight_layout()"
   ]
  },
  {
   "cell_type": "code",
   "execution_count": null,
   "id": "e316b24c",
   "metadata": {},
   "outputs": [],
   "source": []
  }
 ],
 "metadata": {
  "kernelspec": {
   "display_name": "Python 3 (ipykernel)",
   "language": "python",
   "name": "python3"
  },
  "language_info": {
   "codemirror_mode": {
    "name": "ipython",
    "version": 3
   },
   "file_extension": ".py",
   "mimetype": "text/x-python",
   "name": "python",
   "nbconvert_exporter": "python",
   "pygments_lexer": "ipython3",
   "version": "3.9.13"
  }
 },
 "nbformat": 4,
 "nbformat_minor": 5
}
